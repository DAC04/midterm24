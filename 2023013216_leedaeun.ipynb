{
  "nbformat": 4,
  "nbformat_minor": 0,
  "metadata": {
    "colab": {
      "provenance": [],
      "name": "2023013216 leedaeun",
      "authorship_tag": "ABX9TyOZ9ZmO2ooN+a6/Pg6yuX87",
      "include_colab_link": true
    },
    "kernelspec": {
      "name": "python3",
      "display_name": "Python 3"
    },
    "language_info": {
      "name": "python"
    }
  },
  "cells": [
    {
      "cell_type": "markdown",
      "metadata": {
        "id": "view-in-github",
        "colab_type": "text"
      },
      "source": [
        "<a href=\"https://colab.research.google.com/github/DAC04/midterm24/blob/main/2023013216_leedaeun.ipynb\" target=\"_parent\"><img src=\"https://colab.research.google.com/assets/colab-badge.svg\" alt=\"Open In Colab\"/></a>"
      ]
    },
    {
      "cell_type": "code",
      "source": [
        "# Name question\n",
        "x = \"My name is\"\n",
        "y = \"leedaeun\"\n",
        "print(x)\n",
        "print(y)"
      ],
      "metadata": {
        "colab": {
          "base_uri": "https://localhost:8080/"
        },
        "id": "wnxx4sJ0cRD9",
        "outputId": "a889b804-e591-49c8-df3b-4584855e5098"
      },
      "execution_count": null,
      "outputs": [
        {
          "output_type": "stream",
          "name": "stdout",
          "text": [
            "My name is\n",
            "leedaeun\n"
          ]
        }
      ]
    },
    {
      "cell_type": "code",
      "source": [
        "#Variable Question\n",
        "name = \"leedaeun\"\n",
        "born_in = 2004\n",
        "hometown = \"Busan\"\n",
        "x = input('name: ')\n",
        "print(f'Hello, my name is {name}.')\n",
        "y = input('born_in: ')\n",
        "print(f'I was born in {born_in}.')\n",
        "z = input('hometown: ')\n",
        "print(f'I am from {hometown}.')\n",
        "print(f'Nice to meet you.')"
      ],
      "metadata": {
        "colab": {
          "base_uri": "https://localhost:8080/"
        },
        "id": "IuMk1qUOfX6G",
        "outputId": "bf57ebfb-8cef-4459-81c9-eb7f50f5f8f3"
      },
      "execution_count": null,
      "outputs": [
        {
          "output_type": "stream",
          "name": "stdout",
          "text": [
            "name: leedaeun\n",
            "Hello, my name is leedaeun.\n",
            "born_in: 2004\n",
            "I was born in 2004.\n",
            "hometown: Busan\n",
            "I am from Busan.\n",
            "Nice to meet you.\n"
          ]
        }
      ]
    },
    {
      "cell_type": "code",
      "source": [
        "##Dictionary Question\n",
        "student_grades = {\"이다은\": 90, \"이나현\": 85, \"김정민\": 95}\n",
        "student_grades['이다은']"
      ],
      "metadata": {
        "colab": {
          "base_uri": "https://localhost:8080/"
        },
        "id": "UbpwCGtGhd2l",
        "outputId": "3eab9f6f-56c5-4c43-b9e9-0c48a2dfd1b2"
      },
      "execution_count": null,
      "outputs": [
        {
          "output_type": "execute_result",
          "data": {
            "text/plain": [
              "90"
            ]
          },
          "metadata": {},
          "execution_count": 33
        }
      ]
    },
    {
      "cell_type": "code",
      "source": [],
      "metadata": {
        "id": "gZwGp02MjqJN"
      },
      "execution_count": null,
      "outputs": []
    }
  ]
}